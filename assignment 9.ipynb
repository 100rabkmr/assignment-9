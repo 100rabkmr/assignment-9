{
 "cells": [
  {
   "cell_type": "raw",
   "id": "af9149cd",
   "metadata": {},
   "source": [
    "1. To what does a relative path refer?\n",
    "\n",
    "ans)   Relative paths are relative to the current working directory."
   ]
  },
  {
   "cell_type": "raw",
   "id": "61da4005",
   "metadata": {},
   "source": [
    "2. What does an absolute path start with your operating system?\n",
    "\n",
    "ans) Absolute paths start with the root folder, such as / or C:\\."
   ]
  },
  {
   "cell_type": "raw",
   "id": "0acedaeb",
   "metadata": {},
   "source": [
    "3. What do the functions os.getcwd() and os.chdir() do?\n",
    "\n",
    "ans) The os.getcwd() function returns the current working directory. \n",
    "     The os.chdir() function changes the current working directory."
   ]
  },
  {
   "cell_type": "raw",
   "id": "39d2e432",
   "metadata": {},
   "source": [
    "4. What are the . and .. folders?\n",
    "\n",
    "\n",
    "ans)    The . folder is the current folder, and .. is the parent folder."
   ]
  },
  {
   "cell_type": "raw",
   "id": "1cf7b828",
   "metadata": {},
   "source": [
    "5. In C:\\bacon\\eggs\\spam.txt, which part is the dir name, and which part is the base name?\n",
    "    \n",
    "ans)    C:\\bacon\\eggs is the dir name, while spam.txt is the base name."
   ]
  },
  {
   "cell_type": "raw",
   "id": "18fe580b",
   "metadata": {},
   "source": [
    "6. What are the three “mode” arguments that can be passed to the open() function?\n",
    "\n",
    "ans)    The string 'r' for read mode, 'w' for write mode, and 'a' for append mode"
   ]
  },
  {
   "cell_type": "raw",
   "id": "f88f3975",
   "metadata": {},
   "source": [
    "7. What happens if an existing file is opened in write mode?\n",
    "\n",
    "ans)  An existing file opened in write mode is erased and completely overwritten."
   ]
  },
  {
   "cell_type": "raw",
   "id": "4c22b131",
   "metadata": {},
   "source": [
    "8. How do you tell the difference between read() and readlines()?\n",
    "\n",
    "ans)        The read() method returns the file's entire contents as a single string value.\n",
    "            The readlines() method returns a list of strings, where each string is a line from the file's contents."
   ]
  },
  {
   "cell_type": "raw",
   "id": "2e54e5b1",
   "metadata": {},
   "source": [
    "9. What data structure does a shelf value resemble?\n",
    "\n",
    "ans)   A shelf value resembles a dictionary value; it has keys and values,\n",
    "       along with keys() and values() methods that work similarly to the dictionary methods of the same names."
   ]
  }
 ],
 "metadata": {
  "kernelspec": {
   "display_name": "Python 3 (ipykernel)",
   "language": "python",
   "name": "python3"
  },
  "language_info": {
   "codemirror_mode": {
    "name": "ipython",
    "version": 3
   },
   "file_extension": ".py",
   "mimetype": "text/x-python",
   "name": "python",
   "nbconvert_exporter": "python",
   "pygments_lexer": "ipython3",
   "version": "3.11.7"
  }
 },
 "nbformat": 4,
 "nbformat_minor": 5
}
